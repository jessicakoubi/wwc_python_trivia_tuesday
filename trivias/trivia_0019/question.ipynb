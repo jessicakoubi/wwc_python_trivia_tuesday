{
 "cells": [
  {
   "cell_type": "markdown",
   "source": [
    "# Question\n",
    "\n",
    "## What is the output of the following code ?"
   ],
   "metadata": {}
  },
  {
   "cell_type": "code",
   "execution_count": null,
   "source": [
    "COLOR_NAME_TO_RGB = {\"black\":(0, 0, 0),\"green\":(0, 128, 0)}\n",
    "\n",
    "class Cat():\n",
    "\n",
    "    def __init__(self):\n",
    "        self._color_rgb = None\n",
    "\n",
    "    @property\n",
    "    def color(self):\n",
    "        return self._color_rgb\n",
    "\n",
    "    @color.setter\n",
    "    def color(self, value):\n",
    "        if value not in COLOR_NAME_TO_RGB:\n",
    "            raise ValueError(f\"'{value}' is not a supported color name\")\n",
    "        self._color_rgb = COLOR_NAME_TO_RGB[value]\n",
    "\n",
    "my_cat = Cat()\n",
    "my_cat.color = \"black\"\n",
    "print(my_cat.color)"
   ],
   "outputs": [],
   "metadata": {}
  },
  {
   "cell_type": "markdown",
   "source": [
    "## Answers\n",
    "\n",
    "* a) black\n",
    "* b) (0, 0, 0)\n",
    "* c) None"
   ],
   "metadata": {}
  }
 ],
 "metadata": {
  "orig_nbformat": 4,
  "language_info": {
   "name": "python",
   "version": "3.8.10",
   "mimetype": "text/x-python",
   "codemirror_mode": {
    "name": "ipython",
    "version": 3
   },
   "pygments_lexer": "ipython3",
   "nbconvert_exporter": "python",
   "file_extension": ".py"
  },
  "kernelspec": {
   "name": "python3",
   "display_name": "Python 3.8.10 64-bit"
  },
  "interpreter": {
   "hash": "767d51c1340bd893661ea55ea3124f6de3c7a262a8b4abca0554b478b1e2ff90"
  }
 },
 "nbformat": 4,
 "nbformat_minor": 2
}