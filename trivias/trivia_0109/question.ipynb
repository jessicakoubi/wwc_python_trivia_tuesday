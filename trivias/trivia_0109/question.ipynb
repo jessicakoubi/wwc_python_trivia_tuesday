{
 "cells": [
  {
   "attachments": {},
   "cell_type": "markdown",
   "metadata": {},
   "source": [
    "# Question\n",
    "\n",
    "## What is the output of the following code ?"
   ]
  },
  {
   "cell_type": "code",
   "execution_count": null,
   "metadata": {},
   "outputs": [],
   "source": [
    "\n",
    "def wwcp(ll):\n",
    "    _VOWELS = [\"a\", \"e\", \"i\", \"o\", \"u\"]\n",
    "\n",
    "    def vowel_count(a):\n",
    "        return len([x for x in a if x in _VOWELS])\n",
    "    \n",
    "    t = 0\n",
    "    for i in ll:\n",
    "        t += vowel_count(i)\n",
    "\n",
    "    return t\n",
    "\n",
    "l = [\"women\", \"who\", \"code\", \"python\"]\n",
    "v = wwcp(l)\n",
    "print(v)"
   ]
  },
  {
   "attachments": {},
   "cell_type": "markdown",
   "metadata": {},
   "source": [
    "## Answers\n",
    "\n",
    "* a) 6\n",
    "* b) TypeError: unsupported operand type(s) for +: 'int' and 'list'\n",
    "* c) 4\n",
    "* d) 0"
   ]
  }
 ],
 "metadata": {
  "interpreter": {
   "hash": "767d51c1340bd893661ea55ea3124f6de3c7a262a8b4abca0554b478b1e2ff90"
  },
  "kernelspec": {
   "display_name": "Python 3.8.10 64-bit",
   "name": "python3"
  },
  "language_info": {
   "codemirror_mode": {
    "name": "ipython",
    "version": 3
   },
   "file_extension": ".py",
   "mimetype": "text/x-python",
   "name": "python",
   "nbconvert_exporter": "python",
   "pygments_lexer": "ipython3",
   "version": "3.9.7"
  },
  "orig_nbformat": 4
 },
 "nbformat": 4,
 "nbformat_minor": 2
}
