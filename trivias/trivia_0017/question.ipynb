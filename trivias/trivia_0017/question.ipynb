{
 "cells": [
  {
   "cell_type": "markdown",
   "source": [
    "# Question\n",
    "\n",
    "## How many \"m\" is there in the phrase below ?"
   ],
   "metadata": {}
  },
  {
   "cell_type": "code",
   "execution_count": 12,
   "source": [
    "d1 = {\"vancouver\":\"canada\", \"paris\":\"france\"}\n",
    "d2 = {\"mumbai\":\"india\"}\n",
    "result = dict(d1, **d2)\n",
    "print(result)"
   ],
   "outputs": [
    {
     "output_type": "stream",
     "name": "stdout",
     "text": [
      "{'vancouver': 'canada', 'paris': 'france', 'mumbai': 'india'}\n"
     ]
    }
   ],
   "metadata": {}
  },
  {
   "cell_type": "markdown",
   "source": [
    "## Answers\n",
    "\n",
    "* a) {\"vancouver\":\"canada\", \"paris\":\"france\"}\n",
    "* b) TypeError: unsupported operand type(s) for ** or pow(): 'dict' and 'dict'\n",
    "* c) {\"mumbai\":\"india\"}\n",
    "* d) {'vancouver': 'canada', 'paris': 'france', 'mumbai': 'india'}"
   ],
   "metadata": {}
  }
 ],
 "metadata": {
  "orig_nbformat": 4,
  "language_info": {
   "name": "python",
   "version": "3.8.10",
   "mimetype": "text/x-python",
   "codemirror_mode": {
    "name": "ipython",
    "version": 3
   },
   "pygments_lexer": "ipython3",
   "nbconvert_exporter": "python",
   "file_extension": ".py"
  },
  "kernelspec": {
   "name": "python3",
   "display_name": "Python 3.8.10 64-bit"
  },
  "interpreter": {
   "hash": "767d51c1340bd893661ea55ea3124f6de3c7a262a8b4abca0554b478b1e2ff90"
  }
 },
 "nbformat": 4,
 "nbformat_minor": 2
}