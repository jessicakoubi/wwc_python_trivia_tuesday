{
 "cells": [
  {
   "cell_type": "markdown",
   "metadata": {},
   "source": [
    "# Question\n",
    "\n",
    "## What is the output of the following code ?"
   ]
  },
  {
   "cell_type": "code",
   "execution_count": null,
   "metadata": {},
   "outputs": [],
   "source": [
    "a = [\n",
    "    (\"Grace\", 1906),\n",
    "    (\"Ada\", 1815),\n",
    "    (\"Anita\", 1949)\n",
    "]\n",
    "a.sort(key=lambda x: x[1])\n",
    "print(a)"
   ]
  },
  {
   "attachments": {},
   "cell_type": "markdown",
   "metadata": {},
   "source": [
    "## Answers\n",
    "\n",
    "* a) [('Ada', 1815), ('Grace', 1906), ('Anita', 1949)]\n",
    "* b) [('Ada', 1815), ('Anita', 1949, ('Grace', 1906))]"
   ]
  }
 ],
 "metadata": {
  "kernelspec": {
   "display_name": "Python 3",
   "language": "python",
   "name": "python3"
  },
  "language_info": {
   "codemirror_mode": {
    "name": "ipython",
    "version": 3
   },
   "file_extension": ".py",
   "mimetype": "text/x-python",
   "name": "python",
   "nbconvert_exporter": "python",
   "pygments_lexer": "ipython3",
   "version": "3.9.7"
  },
  "orig_nbformat": 4,
  "vscode": {
   "interpreter": {
    "hash": "837608c90d7c5b1a15be57fe157e907fe3dea9089c4a515041b6ad6c1d7eab02"
   }
  }
 },
 "nbformat": 4,
 "nbformat_minor": 2
}
