{
 "cells": [
  {
   "cell_type": "markdown",
   "metadata": {},
   "source": [
    "# Question\n",
    "\n",
    "## What is the output of the following code ?"
   ]
  },
  {
   "cell_type": "code",
   "execution_count": null,
   "metadata": {},
   "outputs": [],
   "source": [
    "def a(name: \"First name of the person\", \n",
    "      age: \"Age in years\"):\n",
    "    print(f\"{name} is {age}years old.\")\n",
    "\n",
    "a(\"Isabella\", 23)"
   ]
  },
  {
   "cell_type": "markdown",
   "metadata": {},
   "source": [
    "## Answers\n",
    "\n",
    "* a) Isabella is 23years old.\n",
    "* b) SyntaxError: invalid syntax"
   ]
  }
 ],
 "metadata": {
  "interpreter": {
   "hash": "837608c90d7c5b1a15be57fe157e907fe3dea9089c4a515041b6ad6c1d7eab02"
  },
  "kernelspec": {
   "display_name": "Python 3.9.7 64-bit ('3.9.7')",
   "language": "python",
   "name": "python3"
  },
  "language_info": {
   "codemirror_mode": {
    "name": "ipython",
    "version": 3
   },
   "file_extension": ".py",
   "mimetype": "text/x-python",
   "name": "python",
   "nbconvert_exporter": "python",
   "pygments_lexer": "ipython3",
   "version": "3.9.7"
  },
  "orig_nbformat": 4
 },
 "nbformat": 4,
 "nbformat_minor": 2
}
