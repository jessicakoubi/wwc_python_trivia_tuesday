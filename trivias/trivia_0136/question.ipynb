{
 "cells": [
  {
   "cell_type": "markdown",
   "metadata": {},
   "source": [
    "# Question\n",
    "\n",
    "## What is the output of the following code ?"
   ]
  },
  {
   "cell_type": "code",
   "execution_count": null,
   "metadata": {},
   "outputs": [],
   "source": [
    "from typing import TypedDict, Unpack, Required, assert_type\n",
    "\n",
    "class Book(TypedDict):\n",
    "    title: str\n",
    "    author: str\n",
    "    isbn: Required[int]\n",
    "\n",
    "def get_book_info(**kwargs: Unpack[Book]):\n",
    "    assert_type(kwargs, Book)\n",
    "    return kwargs.get(\"isbn\")\n",
    "\n",
    "ba = {\"title\":\"Python 101\", \"author\":\"A Nyme\", \"isbn\":1234567894620}\n",
    "get_book_info(**ba)\n",
    "\n",
    "bb = {\"title\":\"Python 3.12\", \"isbn\":1934537894620}\n",
    "get_book_info(**bb)\n",
    "\n",
    "bc = {\"title\":\"Digital Snake\", \"author\":\"A Jnulo\"}\n",
    "get_book_info(**bc)"
   ]
  },
  {
   "cell_type": "markdown",
   "metadata": {},
   "source": [
    "## Answers\n",
    "\n",
    "* a) 1934537894620\n",
    "* b) None\n",
    "* c) Expression is of type \"dict[str, Any]\", not \"Book\"\n",
    "* d) 0"
   ]
  }
 ],
 "metadata": {
  "interpreter": {
   "hash": "767d51c1340bd893661ea55ea3124f6de3c7a262a8b4abca0554b478b1e2ff90"
  },
  "kernelspec": {
   "display_name": "Python 3.8.10 64-bit",
   "name": "python3"
  },
  "language_info": {
   "codemirror_mode": {
    "name": "ipython",
    "version": 3
   },
   "file_extension": ".py",
   "mimetype": "text/x-python",
   "name": "python",
   "nbconvert_exporter": "python",
   "pygments_lexer": "ipython3",
   "version": "3.8.10"
  },
  "orig_nbformat": 4
 },
 "nbformat": 4,
 "nbformat_minor": 2
}
