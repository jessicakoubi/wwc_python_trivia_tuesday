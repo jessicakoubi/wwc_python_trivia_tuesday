{
 "cells": [
  {
   "cell_type": "markdown",
   "source": [
    "# Question\n",
    "\n",
    "## What is the output of the following code ?"
   ],
   "metadata": {}
  },
  {
   "cell_type": "code",
   "execution_count": null,
   "source": [
    "class Matrix2():\n",
    "    def __init__(self, m):\n",
    "        self._m = m\n",
    "\n",
    "    def __matmul__(self, o):\n",
    "        a = self._m[0][0]*o._m[0][0]+self._m[0][1]*o._m[1][0]\n",
    "        b = self._m[0][0]*o._m[0][1]+self._m[0][1]*o._m[1][1]\n",
    "        c = self._m[1][0]*o._m[0][0]+self._m[1][1]*o._m[1][0]\n",
    "        d = self._m[1][0]*o._m[0][1]+self._m[1][1]*o._m[1][1]\n",
    "        return Matrix2([[a,b],[c,d]])\n",
    "\n",
    "    def __str__(self):\n",
    "        return \"Matrix2: {}\".format(self._m)\n",
    "\n",
    "m1 = Matrix2([[1, 3], [0, 7]])\n",
    "m2 = Matrix2([[2, 1], [5, 8]])\n",
    "result = m1 @ m2\n",
    "print(result)"
   ],
   "outputs": [],
   "metadata": {}
  },
  {
   "cell_type": "markdown",
   "source": [
    "## Answers\n",
    "\n",
    "* a) SyntaxError: invalid syntax\n",
    "* b) TypeError: unsupported operand type(s) for @: 'Matrix2' and 'Matrix2'\n",
    "* c) Matrix2: [[17, 25], [35, 56]]"
   ],
   "metadata": {}
  }
 ],
 "metadata": {
  "orig_nbformat": 4,
  "language_info": {
   "name": "python",
   "version": "3.8.10",
   "mimetype": "text/x-python",
   "codemirror_mode": {
    "name": "ipython",
    "version": 3
   },
   "pygments_lexer": "ipython3",
   "nbconvert_exporter": "python",
   "file_extension": ".py"
  },
  "kernelspec": {
   "name": "python3",
   "display_name": "Python 3.8.10 64-bit"
  },
  "interpreter": {
   "hash": "767d51c1340bd893661ea55ea3124f6de3c7a262a8b4abca0554b478b1e2ff90"
  }
 },
 "nbformat": 4,
 "nbformat_minor": 2
}