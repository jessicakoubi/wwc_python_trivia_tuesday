{
 "cells": [
  {
   "cell_type": "markdown",
   "metadata": {},
   "source": [
    "# Question\n",
    "\n",
    "## What is the output of the following code ?"
   ]
  },
  {
   "cell_type": "code",
   "execution_count": null,
   "metadata": {},
   "outputs": [],
   "source": [
    "a = {\"macaroni\":\"some\", \"milk\":\"180ml\", \"salt\":\"pinch\"}\n",
    "b = {\"cheddar\":\"170gr\", \"macaroni\":\"170gr\"}\n",
    "print(a|b)"
   ]
  },
  {
   "cell_type": "markdown",
   "metadata": {},
   "source": [
    "## Answers\n",
    "\n",
    "* a) {'macaroni': 'some', 'milk': '180ml', 'salt': 'pinch', 'cheddar': '170gr'}\n",
    "* b) ['macaroni']\n",
    "* c) ['milk', 'salt', 'cheddar']\n",
    "* d) {'macaroni': '170gr', 'milk': '180ml', 'salt': 'pinch', 'cheddar': '170gr'}"
   ]
  }
 ],
 "metadata": {
  "interpreter": {
   "hash": "767d51c1340bd893661ea55ea3124f6de3c7a262a8b4abca0554b478b1e2ff90"
  },
  "kernelspec": {
   "display_name": "Python 3.8.10 64-bit",
   "name": "python3"
  },
  "language_info": {
   "codemirror_mode": {
    "name": "ipython",
    "version": 3
   },
   "file_extension": ".py",
   "mimetype": "text/x-python",
   "name": "python",
   "nbconvert_exporter": "python",
   "pygments_lexer": "ipython3",
   "version": "3.9.7"
  },
  "orig_nbformat": 4
 },
 "nbformat": 4,
 "nbformat_minor": 2
}
