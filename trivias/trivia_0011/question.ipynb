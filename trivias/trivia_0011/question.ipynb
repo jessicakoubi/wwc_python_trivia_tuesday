{
 "cells": [
  {
   "cell_type": "markdown",
   "source": [
    "# Question\n",
    "\n",
    "## What is the output of the following code ?"
   ],
   "metadata": {}
  },
  {
   "cell_type": "code",
   "execution_count": null,
   "source": [
    "import json\n",
    "a = json.loads('[0.1, 0.4, 2.99, 4.5]')\n",
    "print(a)"
   ],
   "outputs": [],
   "metadata": {}
  },
  {
   "cell_type": "markdown",
   "source": [
    "## Answers\n",
    "\n",
    "* a) [0.1, 0.4, 2.99, 4.5]\n",
    "* b) '[0.1, 0.4, 2.99, 4.5]'\n",
    "* c) <function loads at 0xDEADC0DE>\n",
    "* d) 0.1, 0.4, 2.99, 4.5"
   ],
   "metadata": {}
  }
 ],
 "metadata": {
  "orig_nbformat": 4,
  "language_info": {
   "name": "python",
   "version": "3.8.10",
   "mimetype": "text/x-python",
   "codemirror_mode": {
    "name": "ipython",
    "version": 3
   },
   "pygments_lexer": "ipython3",
   "nbconvert_exporter": "python",
   "file_extension": ".py"
  },
  "kernelspec": {
   "name": "python3",
   "display_name": "Python 3.8.10 64-bit"
  },
  "interpreter": {
   "hash": "767d51c1340bd893661ea55ea3124f6de3c7a262a8b4abca0554b478b1e2ff90"
  }
 },
 "nbformat": 4,
 "nbformat_minor": 2
}