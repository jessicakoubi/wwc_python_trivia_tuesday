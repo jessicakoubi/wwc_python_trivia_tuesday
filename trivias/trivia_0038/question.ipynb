{
 "cells": [
  {
   "cell_type": "markdown",
   "metadata": {},
   "source": [
    "# Question\n",
    "\n",
    "## What is the output of the following code ?"
   ]
  },
  {
   "cell_type": "code",
   "execution_count": null,
   "metadata": {},
   "outputs": [],
   "source": [
    "x = str.maketrans({\n",
    "        '0': 'o',\n",
    "        '_': ' ',\n",
    "        'P': 'W',\n",
    "        '^': 'e',\n",
    "    })\n",
    "t = \"P0m^n_Ph0_P0d^\"\n",
    "print(t.translate(x))"
   ]
  },
  {
   "cell_type": "markdown",
   "metadata": {},
   "source": [
    "## Answers\n",
    "\n",
    "* a) Women Who Code\n",
    "* b) Women Ph0_P0d^\n",
    "* c) P0m^n_Ph0_P0d^\n",
    "* d) {'0':3,'_':3,'P':3,'^':2}"
   ]
  }
 ],
 "metadata": {
  "interpreter": {
   "hash": "767d51c1340bd893661ea55ea3124f6de3c7a262a8b4abca0554b478b1e2ff90"
  },
  "kernelspec": {
   "display_name": "Python 3.8.10 64-bit",
   "name": "python3"
  },
  "language_info": {
   "codemirror_mode": {
    "name": "ipython",
    "version": 3
   },
   "file_extension": ".py",
   "mimetype": "text/x-python",
   "name": "python",
   "nbconvert_exporter": "python",
   "pygments_lexer": "ipython3",
   "version": "3.8.9"
  },
  "orig_nbformat": 4
 },
 "nbformat": 4,
 "nbformat_minor": 2
}
