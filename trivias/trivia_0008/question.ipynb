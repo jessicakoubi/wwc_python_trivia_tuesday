{
 "cells": [
  {
   "cell_type": "markdown",
   "source": [
    "# Question\n",
    "\n",
    "## What is the output of the following code ?"
   ],
   "metadata": {}
  },
  {
   "cell_type": "code",
   "execution_count": null,
   "source": [
    "#!/usr/bin/env python\n",
    "import argparse\n",
    "\n",
    "if __name__ == \"__main__\":\n",
    "    parser = argparse.ArgumentParser()\n",
    "    parser.add_argument('-n', '--names', nargs='+')\n",
    "\n",
    "    args = parser.parse_args()\n",
    "    print(args.names)"
   ],
   "outputs": [],
   "metadata": {}
  },
  {
   "cell_type": "code",
   "execution_count": null,
   "source": [
    "my_cmd --names \"Franz Martell\" \"Regina Hunt\" \"Christophe Cousineau\" \"Aarushi Ravel\""
   ],
   "outputs": [],
   "metadata": {}
  },
  {
   "cell_type": "markdown",
   "source": [
    "## Answers\n",
    "\n",
    "* a) SyntaxError: invalid syntax\n",
    "* b) [\"Franz Martell\" \"Regina Hunt\" \"Christophe Cousineau\" \"Aarushi Ravel\"]\n",
    "* c) Franz Martell Regina Hunt Christophe Cousineau Aarushi Ravel\n",
    "* d) Franz Martell"
   ],
   "metadata": {}
  }
 ],
 "metadata": {
  "orig_nbformat": 4,
  "language_info": {
   "name": "python",
   "version": "3.8.10",
   "mimetype": "text/x-python",
   "codemirror_mode": {
    "name": "ipython",
    "version": 3
   },
   "pygments_lexer": "ipython3",
   "nbconvert_exporter": "python",
   "file_extension": ".py"
  },
  "kernelspec": {
   "name": "python3",
   "display_name": "Python 3.8.10 64-bit"
  },
  "interpreter": {
   "hash": "767d51c1340bd893661ea55ea3124f6de3c7a262a8b4abca0554b478b1e2ff90"
  }
 },
 "nbformat": 4,
 "nbformat_minor": 2
}