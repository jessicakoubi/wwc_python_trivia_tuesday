{
 "cells": [
  {
   "attachments": {},
   "cell_type": "markdown",
   "metadata": {},
   "source": [
    "# Question\n",
    "\n",
    "## What is the output of the following code ?"
   ]
  },
  {
   "cell_type": "code",
   "execution_count": null,
   "metadata": {},
   "outputs": [],
   "source": [
    "import configparser\n",
    "\n",
    "c = configparser.ConfigParser()\n",
    "c['DEFAULT'] = {}\n",
    "c['DEFAULT']['ip'] = '127.0.0.1'\n",
    "c['DEFAULT']['port'] = '1234'\n",
    "\n",
    "with open('myapp.ini', 'w') as f:\n",
    "  c.write(f)\n",
    "\n",
    "a = configparser.ConfigParser()\n",
    "a.read('myapp.ini')\n",
    "b = a['DEFAULT']\n",
    "print(f\"{b['ip']}:{b['port']}\")"
   ]
  },
  {
   "attachments": {},
   "cell_type": "markdown",
   "metadata": {},
   "source": [
    "## Answers\n",
    "\n",
    "* a) ip:port\n",
    "* b) 127.0.0.1\n",
    "* c) 127.0.0.1:1234\n",
    "* d) \"ip\":\"port\""
   ]
  }
 ],
 "metadata": {
  "interpreter": {
   "hash": "767d51c1340bd893661ea55ea3124f6de3c7a262a8b4abca0554b478b1e2ff90"
  },
  "kernelspec": {
   "display_name": "Python 3.8.10 64-bit",
   "name": "python3"
  },
  "language_info": {
   "codemirror_mode": {
    "name": "ipython",
    "version": 3
   },
   "file_extension": ".py",
   "mimetype": "text/x-python",
   "name": "python",
   "nbconvert_exporter": "python",
   "pygments_lexer": "ipython3",
   "version": "3.9.7"
  },
  "orig_nbformat": 4
 },
 "nbformat": 4,
 "nbformat_minor": 2
}
