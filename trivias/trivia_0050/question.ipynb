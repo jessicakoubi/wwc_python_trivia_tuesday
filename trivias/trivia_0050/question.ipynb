{
 "cells": [
  {
   "cell_type": "markdown",
   "metadata": {},
   "source": [
    "# Question\n",
    "\n",
    "## What is the output of the following code ?"
   ]
  },
  {
   "cell_type": "code",
   "execution_count": null,
   "metadata": {},
   "outputs": [],
   "source": [
    "import sys\n",
    "\n",
    "if sys.platform == \"win32\" or sys.platform == \"cygwin\":\n",
    "    print(\"You are using Windows!\")\n",
    "elif sys.platform == \"linux\":\n",
    "    print(\"You are using Linux!\")\n",
    "elif sys.platform == \"darwin\":\n",
    "    print(\"You are using a Mac!\")\n",
    "elif sys.platform == \"freebsd\":\n",
    "    print(\"You are using FreeBSD!\")\n",
    "else:\n",
    "    print(\"These aren't the droids you're looking for.\")"
   ]
  },
  {
   "cell_type": "markdown",
   "metadata": {},
   "source": [
    "## Answers\n",
    "\n",
    "* a) You are using Windows!\n",
    "* b) You are using Linux!\n",
    "* c) You are using a Mac!\n",
    "* d) You are using FreeBSD!"
   ]
  }
 ],
 "metadata": {
  "interpreter": {
   "hash": "767d51c1340bd893661ea55ea3124f6de3c7a262a8b4abca0554b478b1e2ff90"
  },
  "kernelspec": {
   "display_name": "Python 3.8.10 64-bit",
   "name": "python3"
  },
  "language_info": {
   "codemirror_mode": {
    "name": "ipython",
    "version": 3
   },
   "file_extension": ".py",
   "mimetype": "text/x-python",
   "name": "python",
   "nbconvert_exporter": "python",
   "pygments_lexer": "ipython3",
   "version": "3.9.7"
  },
  "orig_nbformat": 4
 },
 "nbformat": 4,
 "nbformat_minor": 2
}
