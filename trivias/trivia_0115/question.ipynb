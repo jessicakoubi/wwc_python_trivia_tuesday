{
 "cells": [
  {
   "cell_type": "markdown",
   "metadata": {},
   "source": [
    "# Question\n",
    "\n",
    "## What is the output of the following code ?"
   ]
  },
  {
   "cell_type": "code",
   "execution_count": null,
   "metadata": {},
   "outputs": [],
   "source": [
    "import hashlib\n",
    "\n",
    "a = \"\"\"\n",
    "def usage(msg=None):\n",
    "    if msg is None:\n",
    "        msg = __doc__\n",
    "    print(msg, file=sys.stderr)\n",
    "\"\"\"\n",
    "hl = hashlib.sha256()\n",
    "hl.update(a.encode())\n",
    "h = hl.hexdigest()\n",
    "print(h)"
   ]
  },
  {
   "cell_type": "markdown",
   "metadata": {},
   "source": [
    "## Answers\n",
    "\n",
    "* a) def usage(msg........\n",
    "* b) 1209f87a9ee543a92e4905cdda1f29dc3e00be9e2852a964ec35f286c54555c0\n",
    "* c) Hex(\"1209f87a9ee543a92e4905cdda1f29dc3e00be9e2852a964ec35f286c54555c0\")\n",
    "* d) sha256(\"def usage...\")"
   ]
  }
 ],
 "metadata": {
  "interpreter": {
   "hash": "767d51c1340bd893661ea55ea3124f6de3c7a262a8b4abca0554b478b1e2ff90"
  },
  "kernelspec": {
   "display_name": "Python 3.8.10 64-bit",
   "name": "python3"
  },
  "language_info": {
   "codemirror_mode": {
    "name": "ipython",
    "version": 3
   },
   "file_extension": ".py",
   "mimetype": "text/x-python",
   "name": "python",
   "nbconvert_exporter": "python",
   "pygments_lexer": "ipython3",
   "version": "3.9.7"
  },
  "orig_nbformat": 4
 },
 "nbformat": 4,
 "nbformat_minor": 2
}
